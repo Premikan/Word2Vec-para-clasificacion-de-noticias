{
 "cells": [
  {
   "cell_type": "code",
   "execution_count": 1,
   "metadata": {},
   "outputs": [],
   "source": [
    "import numpy as np\n",
    "import os"
   ]
  },
  {
   "cell_type": "code",
   "execution_count": 2,
   "metadata": {},
   "outputs": [],
   "source": [
    "from time import time\n",
    "start_nb = time()"
   ]
  },
  {
   "cell_type": "code",
   "execution_count": 3,
   "metadata": {},
   "outputs": [],
   "source": [
    "# Initialize logging.\n",
    "import logging\n",
    "logging.basicConfig(format='%(asctime)s : %(levelname)s : %(message)s')"
   ]
  },
  {
   "cell_type": "code",
   "execution_count": 4,
   "metadata": {},
   "outputs": [
    {
     "name": "stdout",
     "output_type": "stream",
     "text": [
      "[nltk_data] Downloading package stopwords to /home/diego/nltk_data...\n",
      "[nltk_data]   Package stopwords is already up-to-date!\n"
     ]
    }
   ],
   "source": [
    "# Import and download stopwords from NLTK.\n",
    "from nltk.corpus import stopwords\n",
    "from nltk import download\n",
    "download('stopwords')  # Download stopwords list.\n",
    "\n",
    "# Remove stopwords.\n",
    "stop_words = stopwords.words('english')"
   ]
  },
  {
   "cell_type": "code",
   "execution_count": 5,
   "metadata": {},
   "outputs": [
    {
     "name": "stdout",
     "output_type": "stream",
     "text": [
      "Cell took 185.30 seconds to run.\n"
     ]
    }
   ],
   "source": [
    "start = time()\n",
    "import os\n",
    "\n",
    "from gensim.models import KeyedVectors\n",
    "if not os.path.exists('./GoogleNews-vectors-negative300.bin.gz'):\n",
    "    raise ValueError(\"SKIP: You need to download the google news model\")\n",
    "    \n",
    "model = KeyedVectors.load_word2vec_format('./GoogleNews-vectors-negative300.bin.gz', binary=True)\n",
    "\n",
    "print('Cell took %.2f seconds to run.' % (time() - start))"
   ]
  },
  {
   "cell_type": "code",
   "execution_count": 6,
   "metadata": {},
   "outputs": [
    {
     "name": "stdout",
     "output_type": "stream",
     "text": [
      "Cell took 44.85 seconds to run.\n"
     ]
    }
   ],
   "source": [
    "# Normalizing word2vec vectors.\n",
    "start = time()\n",
    "\n",
    "model.init_sims(replace=True)  # Normalizes the vectors in the word2vec class.\n",
    "\n",
    "print ('Cell took %.2f seconds to run.' %(time() - start))"
   ]
  },
  {
   "cell_type": "code",
   "execution_count": 7,
   "metadata": {},
   "outputs": [],
   "source": [
    "\n",
    "def centroide(archivo):\n",
    "    w2vLen=300 #Tamaño de descriptor word2vec\n",
    "    file = open(archivo)\n",
    "    texto=file.read().replace(\"\\n\", \" \").split(' ')\n",
    "    words = np.array(texto).astype(str)    \n",
    "    noStopWords=[w for w in words if w not in stop_words]\n",
    "    \n",
    "    cantidad=len(noStopWords)\n",
    "    s=np.zeros(w2vLen)\n",
    "    conteo=0\n",
    "    for i in np.arange(cantidad):\n",
    "        try: # si una palabra no es Stop Word y tampoco esta en el vocabulario ocurre un error\n",
    "            s+=model[noStopWords[i]]\n",
    "            conteo+=1\n",
    "            \n",
    "        except KeyError:\n",
    "            pass\n",
    "    return s/conteo"
   ]
  },
  {
   "cell_type": "code",
   "execution_count": 8,
   "metadata": {},
   "outputs": [],
   "source": [
    "def leer(carpetaEntrada,archivoSalida):\n",
    "    carpetaSalida='./data/'\n",
    "    nombres=sorted(os.listdir(carpetaEntrada))\n",
    "    centroides=[]\n",
    "    for nombre in nombres:\n",
    "        centroides.append(centroide(carpetaEntrada+nombre))\n",
    "    np.save(carpetaSalida+archivoSalida, np.array(centroides))"
   ]
  },
  {
   "cell_type": "code",
   "execution_count": 9,
   "metadata": {},
   "outputs": [],
   "source": [
    "leer('./bbc/business/','business')\n",
    "leer('./bbc/entertainment/','entertainment')\n",
    "leer('./bbc/politics/','politics')\n",
    "leer('./bbc/sport/','sport')\n",
    "leer('./bbc/tech/','tech')"
   ]
  }
 ],
 "metadata": {
  "kernelspec": {
   "display_name": "Python 3",
   "language": "python",
   "name": "python3"
  },
  "language_info": {
   "codemirror_mode": {
    "name": "ipython",
    "version": 3
   },
   "file_extension": ".py",
   "mimetype": "text/x-python",
   "name": "python",
   "nbconvert_exporter": "python",
   "pygments_lexer": "ipython3",
   "version": "3.6.5"
  }
 },
 "nbformat": 4,
 "nbformat_minor": 2
}
